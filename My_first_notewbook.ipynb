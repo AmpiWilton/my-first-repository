{
  "nbformat": 4,
  "nbformat_minor": 0,
  "metadata": {
    "colab": {
      "provenance": [],
      "authorship_tag": "ABX9TyOSlNMwjfqgSje6mw28Xod8",
      "include_colab_link": true
    },
    "kernelspec": {
      "name": "python3",
      "display_name": "Python 3"
    },
    "language_info": {
      "name": "python"
    }
  },
  "cells": [
    {
      "cell_type": "markdown",
      "metadata": {
        "id": "view-in-github",
        "colab_type": "text"
      },
      "source": [
        "<a href=\"https://colab.research.google.com/github/AmpiWilton/my-first-repository/blob/main/My_first_notewbook.ipynb\" target=\"_parent\"><img src=\"https://colab.research.google.com/assets/colab-badge.svg\" alt=\"Open In Colab\"/></a>"
      ]
    },
    {
      "cell_type": "markdown",
      "source": [],
      "metadata": {
        "id": "Uho7lUshn0Y1"
      }
    },
    {
      "cell_type": "code",
      "source": [],
      "metadata": {
        "id": "Yxuaxm39nxt3"
      },
      "execution_count": null,
      "outputs": []
    },
    {
      "cell_type": "code",
      "execution_count": 8,
      "metadata": {
        "colab": {
          "base_uri": "https://localhost:8080/"
        },
        "id": "Jghmk34NlUr4",
        "outputId": "0bf799e2-8a07-4e2a-e8c5-0a8c46010461"
      },
      "outputs": [
        {
          "output_type": "stream",
          "name": "stdout",
          "text": [
            "Hola Juan Wilton\n",
            "15\n",
            "8\n"
          ]
        }
      ],
      "source": [
        "name = \"Juan Wilton\"\n",
        "print(\"Hola\",name)\n",
        "a= 3\n",
        "b= 5\n",
        "c= a * b\n",
        "d= a + b\n",
        "print (c)\n",
        "print (d)"
      ]
    },
    {
      "cell_type": "code",
      "source": [],
      "metadata": {
        "id": "ce_m2gIYoz0V"
      },
      "execution_count": null,
      "outputs": []
    }
  ]
}